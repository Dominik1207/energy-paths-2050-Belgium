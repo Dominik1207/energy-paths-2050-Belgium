{
 "cells": [
  {
   "cell_type": "code",
   "execution_count": 1,
   "metadata": {},
   "outputs": [],
   "source": [
    "#Requirements:\n",
    "#conda create --name slb python=3.11\n",
    "#conda activate slb\n",
    "#conda install numpy pandas pyyaml schema \n",
    "#pip install premise datapackage\n",
    "#pip install git+https://github.com/brightway-lca/brightway2-io.git\n",
    "#conda list\n",
    "\n",
    "\n",
    "#import brightway2 as bw\n",
    "import bw2data, bw2io\n",
    "from premise import NewDatabase\n",
    "from datapackage import Package"
   ]
  },
  {
   "cell_type": "code",
   "execution_count": 2,
   "metadata": {},
   "outputs": [
    {
     "name": "stdout",
     "output_type": "stream",
     "text": [
      "premise v.(1, 8, 1)\n",
      "+------------------------------------------------------------------+\n",
      "| Warning                                                          |\n",
      "+------------------------------------------------------------------+\n",
      "| Because some of the scenarios can yield LCI databases            |\n",
      "| containing net negative emission technologies (NET),             |\n",
      "| it is advised to account for biogenic CO2 flows when calculating |\n",
      "| Global Warming potential indicators.                             |\n",
      "| `premise_gwp` provides characterization factors for such flows.  |\n",
      "| It also provides factors for hydrogen emissions to air.          |\n",
      "|                                                                  |\n",
      "| Within your bw2 project:                                         |\n",
      "| from premise_gwp import add_premise_gwp                          |\n",
      "| add_premise_gwp()                                                |\n",
      "+------------------------------------------------------------------+\n",
      "+--------------------------------+----------------------------------+\n",
      "| Utils functions                | Description                      |\n",
      "+--------------------------------+----------------------------------+\n",
      "| clear_cache()                  | Clears the cache folder. Useful  |\n",
      "|                                | when updating `premise`or        |\n",
      "|                                | encountering issues with         |\n",
      "|                                | inventories.                     |\n",
      "+--------------------------------+----------------------------------+\n",
      "| get_regions_definition(model)  | Retrieves the list of countries  |\n",
      "|                                | for each region of the model.    |\n",
      "+--------------------------------+----------------------------------+\n",
      "| ndb.NewDatabase(...)           | Generates a summary of the most  |\n",
      "| ndb.generate_scenario_report() | important scenarios' variables.  |\n",
      "+--------------------------------+----------------------------------+\n",
      "Keep uncertainty data?\n",
      "NewDatabase(..., keep_uncertainty_data=True)\n",
      "\n",
      "Disable multiprocessing?\n",
      "NewDatabase(..., use_multiprocessing=False)\n",
      "\n",
      "Hide these messages?\n",
      "NewDatabase(..., quiet=True)\n",
      "\n",
      "//////////////////// EXTRACTING SOURCE DATABASE ////////////////////\n",
      "Cannot find cached database. Will create one now for next time...\n",
      "Getting activity data\n"
     ]
    },
    {
     "name": "stderr",
     "output_type": "stream",
     "text": [
      "100%|██████████| 21238/21238 [00:00<00:00, 67436.71it/s]\n"
     ]
    },
    {
     "name": "stdout",
     "output_type": "stream",
     "text": [
      "Adding exchange data to activities\n"
     ]
    },
    {
     "name": "stderr",
     "output_type": "stream",
     "text": [
      " 73%|███████▎  | 31257920/42952218 [4:13:25<09:06, 21401.35it/s]  "
     ]
    }
   ],
   "source": [
    "#fp = r\"https://raw.githubusercontent.com/premise-community-scenarios/energy-perspective-2050-switzerland/main/datapackage.json\"\n",
    "fp= r\"C:\\Users\\dhuber\\OneDrive - Vrije Universiteit Brussel\\Re2Live_paper\\03_Data\\PLCA_DB_test/datapackage.json\"\n",
    "paths2050 = Package(fp)\n",
    "    \n",
    "bw2data.projects.set_current(\"Dominiks_phd\") #--> to be updated to your project\n",
    "    \n",
    "ndb = NewDatabase(\n",
    "        scenarios = [\n",
    "            {\"model\":\"remind\", \"pathway\":\"SSP2-NPi\", \"year\":2050,},\n",
    "            {\"model\":\"remind\", \"pathway\":\"SSP2-PkBudg1150\", \"year\":2050,},\n",
    "        ],        \n",
    "        #source_db=\"ecoinvent 3.9.1 cutoff\",\n",
    "        source_db=\"cutoff391\", #--> has to be adjusted to match the name of ecoinvent in your current project\n",
    "        source_version=\"3.9.1\",\n",
    "        key='tUePmX_S5B8ieZkkM7WUU2CnO8SmShwmAeWK9x2rTFo=',\n",
    "        external_scenarios=[\n",
    "            paths2050, # <-- list datapackages here\n",
    "        ] \n",
    "    )\n",
    "ndb.update_external_scenario()"
   ]
  },
  {
   "cell_type": "code",
   "execution_count": 3,
   "metadata": {},
   "outputs": [
    {
     "data": {
      "text/plain": [
       "Databases dictionary with 6 object(s):\n",
       "\tBD4OPEM\n",
       "\tBattery_LCI\n",
       "\tbiosphere3\n",
       "\tcutoff391\n",
       "\tecoinvent 3.9.1 consequential\n",
       "\ttest"
      ]
     },
     "execution_count": 3,
     "metadata": {},
     "output_type": "execute_result"
    }
   ],
   "source": [
    "bw2data.projects.set_current(\"Dominiks_phd\")\n",
    "bw2data.databases"
   ]
  }
 ],
 "metadata": {
  "kernelspec": {
   "display_name": "Python 3",
   "language": "python",
   "name": "python3"
  },
  "language_info": {
   "codemirror_mode": {
    "name": "ipython",
    "version": 3
   },
   "file_extension": ".py",
   "mimetype": "text/x-python",
   "name": "python",
   "nbconvert_exporter": "python",
   "pygments_lexer": "ipython3",
   "version": "3.11.6"
  }
 },
 "nbformat": 4,
 "nbformat_minor": 2
}
