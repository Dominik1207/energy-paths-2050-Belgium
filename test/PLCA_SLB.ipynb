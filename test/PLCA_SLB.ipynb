{
 "cells": [
  {
   "cell_type": "code",
   "execution_count": 1,
   "metadata": {},
   "outputs": [],
   "source": [
    "#Requirements:\n",
    "#conda create --name slb python=3.11\n",
    "#conda activate slb\n",
    "#conda install numpy pandas pyyaml schema \n",
    "#pip install premise datapackage\n",
    "#pip install git+https://github.com/brightway-lca/brightway2-io.git\n",
    "#conda list\n",
    "\n",
    "\n",
    "#import brightway2 as bw\n",
    "import bw2data, bw2io\n",
    "from premise import NewDatabase\n",
    "from datapackage import Package"
   ]
  },
  {
   "cell_type": "code",
   "execution_count": 3,
   "metadata": {},
   "outputs": [
    {
     "name": "stdout",
     "output_type": "stream",
     "text": [
      "premise v.(1, 8, 1)\n",
      "+------------------------------------------------------------------+\n",
      "| Warning                                                          |\n",
      "+------------------------------------------------------------------+\n",
      "| Because some of the scenarios can yield LCI databases            |\n",
      "| containing net negative emission technologies (NET),             |\n",
      "| it is advised to account for biogenic CO2 flows when calculating |\n",
      "| Global Warming potential indicators.                             |\n",
      "| `premise_gwp` provides characterization factors for such flows.  |\n",
      "| It also provides factors for hydrogen emissions to air.          |\n",
      "|                                                                  |\n",
      "| Within your bw2 project:                                         |\n",
      "| from premise_gwp import add_premise_gwp                          |\n",
      "| add_premise_gwp()                                                |\n",
      "+------------------------------------------------------------------+\n",
      "+--------------------------------+----------------------------------+\n",
      "| Utils functions                | Description                      |\n",
      "+--------------------------------+----------------------------------+\n",
      "| clear_cache()                  | Clears the cache folder. Useful  |\n",
      "|                                | when updating `premise`or        |\n",
      "|                                | encountering issues with         |\n",
      "|                                | inventories.                     |\n",
      "+--------------------------------+----------------------------------+\n",
      "| get_regions_definition(model)  | Retrieves the list of countries  |\n",
      "|                                | for each region of the model.    |\n",
      "+--------------------------------+----------------------------------+\n",
      "| ndb.NewDatabase(...)           | Generates a summary of the most  |\n",
      "| ndb.generate_scenario_report() | important scenarios' variables.  |\n",
      "+--------------------------------+----------------------------------+\n",
      "Keep uncertainty data?\n",
      "NewDatabase(..., keep_uncertainty_data=True)\n",
      "\n",
      "Disable multiprocessing?\n",
      "NewDatabase(..., use_multiprocessing=False)\n",
      "\n",
      "Hide these messages?\n",
      "NewDatabase(..., quiet=True)\n"
     ]
    },
    {
     "ename": "KeyError",
     "evalue": "\"External scenario no. 1 is not compatible with ('remind', 'SSP2-NPi').\"",
     "output_type": "error",
     "traceback": [
      "\u001b[1;31m---------------------------------------------------------------------------\u001b[0m",
      "\u001b[1;31mKeyError\u001b[0m                                  Traceback (most recent call last)",
      "File \u001b[1;32mc:\\Users\\dhuber\\Anaconda3\\envs\\slb\\Lib\\site-packages\\premise\\external_data_validation.py:401\u001b[0m, in \u001b[0;36mcheck_scenario_data_file\u001b[1;34m(datapackages, iam_scenarios)\u001b[0m\n\u001b[0;32m    399\u001b[0m     \u001b[39melse\u001b[39;00m:\n\u001b[0;32m    400\u001b[0m         iam_scen[\u001b[39m\"\u001b[39m\u001b[39mexternal scenarios\u001b[39m\u001b[39m\"\u001b[39m] \u001b[39m=\u001b[39m [\n\u001b[1;32m--> 401\u001b[0m             rev_scenarios[(iam_scen[\u001b[39m\"\u001b[39;49m\u001b[39mmodel\u001b[39;49m\u001b[39m\"\u001b[39;49m], iam_scen[\u001b[39m\"\u001b[39;49m\u001b[39mpathway\u001b[39;49m\u001b[39m\"\u001b[39;49m])][\u001b[39m0\u001b[39m]\n\u001b[0;32m    402\u001b[0m         ]\n\u001b[0;32m    403\u001b[0m \u001b[39mexcept\u001b[39;00m \u001b[39mKeyError\u001b[39;00m \u001b[39mas\u001b[39;00m err:\n",
      "\u001b[1;31mKeyError\u001b[0m: ('remind', 'SSP2-NPi')",
      "\nThe above exception was the direct cause of the following exception:\n",
      "\u001b[1;31mKeyError\u001b[0m                                  Traceback (most recent call last)",
      "\u001b[1;32mc:\\Users\\dhuber\\OneDrive - Vrije Universiteit Brussel\\Re2Live_paper\\03_Data\\PLCA_DB_test_v01\\PLCA_SLB.ipynb Cell 2\u001b[0m line \u001b[0;36m7\n\u001b[0;32m      <a href='vscode-notebook-cell:/c%3A/Users/dhuber/OneDrive%20-%20Vrije%20Universiteit%20Brussel/Re2Live_paper/03_Data/PLCA_DB_test_v01/PLCA_SLB.ipynb#W1sZmlsZQ%3D%3D?line=2'>3</a>\u001b[0m paths2050 \u001b[39m=\u001b[39m Package(fp)\n\u001b[0;32m      <a href='vscode-notebook-cell:/c%3A/Users/dhuber/OneDrive%20-%20Vrije%20Universiteit%20Brussel/Re2Live_paper/03_Data/PLCA_DB_test_v01/PLCA_SLB.ipynb#W1sZmlsZQ%3D%3D?line=4'>5</a>\u001b[0m bw2data\u001b[39m.\u001b[39mprojects\u001b[39m.\u001b[39mset_current(\u001b[39m\"\u001b[39m\u001b[39mDominiks_phd\u001b[39m\u001b[39m\"\u001b[39m) \u001b[39m#--> to be updated to your project\u001b[39;00m\n\u001b[1;32m----> <a href='vscode-notebook-cell:/c%3A/Users/dhuber/OneDrive%20-%20Vrije%20Universiteit%20Brussel/Re2Live_paper/03_Data/PLCA_DB_test_v01/PLCA_SLB.ipynb#W1sZmlsZQ%3D%3D?line=6'>7</a>\u001b[0m ndb \u001b[39m=\u001b[39m NewDatabase(\n\u001b[0;32m      <a href='vscode-notebook-cell:/c%3A/Users/dhuber/OneDrive%20-%20Vrije%20Universiteit%20Brussel/Re2Live_paper/03_Data/PLCA_DB_test_v01/PLCA_SLB.ipynb#W1sZmlsZQ%3D%3D?line=7'>8</a>\u001b[0m         scenarios \u001b[39m=\u001b[39;49m [\n\u001b[0;32m      <a href='vscode-notebook-cell:/c%3A/Users/dhuber/OneDrive%20-%20Vrije%20Universiteit%20Brussel/Re2Live_paper/03_Data/PLCA_DB_test_v01/PLCA_SLB.ipynb#W1sZmlsZQ%3D%3D?line=8'>9</a>\u001b[0m             {\u001b[39m\"\u001b[39;49m\u001b[39mmodel\u001b[39;49m\u001b[39m\"\u001b[39;49m:\u001b[39m\"\u001b[39;49m\u001b[39mremind\u001b[39;49m\u001b[39m\"\u001b[39;49m, \u001b[39m\"\u001b[39;49m\u001b[39mpathway\u001b[39;49m\u001b[39m\"\u001b[39;49m:\u001b[39m\"\u001b[39;49m\u001b[39mSSP2-NPi\u001b[39;49m\u001b[39m\"\u001b[39;49m, \u001b[39m\"\u001b[39;49m\u001b[39myear\u001b[39;49m\u001b[39m\"\u001b[39;49m:\u001b[39m2050\u001b[39;49m,},\n\u001b[0;32m     <a href='vscode-notebook-cell:/c%3A/Users/dhuber/OneDrive%20-%20Vrije%20Universiteit%20Brussel/Re2Live_paper/03_Data/PLCA_DB_test_v01/PLCA_SLB.ipynb#W1sZmlsZQ%3D%3D?line=9'>10</a>\u001b[0m             {\u001b[39m\"\u001b[39;49m\u001b[39mmodel\u001b[39;49m\u001b[39m\"\u001b[39;49m:\u001b[39m\"\u001b[39;49m\u001b[39mremind\u001b[39;49m\u001b[39m\"\u001b[39;49m, \u001b[39m\"\u001b[39;49m\u001b[39mpathway\u001b[39;49m\u001b[39m\"\u001b[39;49m:\u001b[39m\"\u001b[39;49m\u001b[39mSSP2-PkBudg1150\u001b[39;49m\u001b[39m\"\u001b[39;49m, \u001b[39m\"\u001b[39;49m\u001b[39myear\u001b[39;49m\u001b[39m\"\u001b[39;49m:\u001b[39m2050\u001b[39;49m,},\n\u001b[0;32m     <a href='vscode-notebook-cell:/c%3A/Users/dhuber/OneDrive%20-%20Vrije%20Universiteit%20Brussel/Re2Live_paper/03_Data/PLCA_DB_test_v01/PLCA_SLB.ipynb#W1sZmlsZQ%3D%3D?line=10'>11</a>\u001b[0m         ],        \n\u001b[0;32m     <a href='vscode-notebook-cell:/c%3A/Users/dhuber/OneDrive%20-%20Vrije%20Universiteit%20Brussel/Re2Live_paper/03_Data/PLCA_DB_test_v01/PLCA_SLB.ipynb#W1sZmlsZQ%3D%3D?line=11'>12</a>\u001b[0m         \u001b[39m#source_db=\"ecoinvent 3.9.1 cutoff\",\u001b[39;49;00m\n\u001b[0;32m     <a href='vscode-notebook-cell:/c%3A/Users/dhuber/OneDrive%20-%20Vrije%20Universiteit%20Brussel/Re2Live_paper/03_Data/PLCA_DB_test_v01/PLCA_SLB.ipynb#W1sZmlsZQ%3D%3D?line=12'>13</a>\u001b[0m         source_db\u001b[39m=\u001b[39;49m\u001b[39m\"\u001b[39;49m\u001b[39mcutoff391\u001b[39;49m\u001b[39m\"\u001b[39;49m, \u001b[39m#--> has to be adjusted to match the name of ecoinvent in your current project\u001b[39;49;00m\n\u001b[0;32m     <a href='vscode-notebook-cell:/c%3A/Users/dhuber/OneDrive%20-%20Vrije%20Universiteit%20Brussel/Re2Live_paper/03_Data/PLCA_DB_test_v01/PLCA_SLB.ipynb#W1sZmlsZQ%3D%3D?line=13'>14</a>\u001b[0m         source_version\u001b[39m=\u001b[39;49m\u001b[39m\"\u001b[39;49m\u001b[39m3.9.1\u001b[39;49m\u001b[39m\"\u001b[39;49m,\n\u001b[0;32m     <a href='vscode-notebook-cell:/c%3A/Users/dhuber/OneDrive%20-%20Vrije%20Universiteit%20Brussel/Re2Live_paper/03_Data/PLCA_DB_test_v01/PLCA_SLB.ipynb#W1sZmlsZQ%3D%3D?line=14'>15</a>\u001b[0m         key\u001b[39m=\u001b[39;49m\u001b[39m'\u001b[39;49m\u001b[39mtUePmX_S5B8ieZkkM7WUU2CnO8SmShwmAeWK9x2rTFo=\u001b[39;49m\u001b[39m'\u001b[39;49m,\n\u001b[0;32m     <a href='vscode-notebook-cell:/c%3A/Users/dhuber/OneDrive%20-%20Vrije%20Universiteit%20Brussel/Re2Live_paper/03_Data/PLCA_DB_test_v01/PLCA_SLB.ipynb#W1sZmlsZQ%3D%3D?line=15'>16</a>\u001b[0m         external_scenarios\u001b[39m=\u001b[39;49m[\n\u001b[0;32m     <a href='vscode-notebook-cell:/c%3A/Users/dhuber/OneDrive%20-%20Vrije%20Universiteit%20Brussel/Re2Live_paper/03_Data/PLCA_DB_test_v01/PLCA_SLB.ipynb#W1sZmlsZQ%3D%3D?line=16'>17</a>\u001b[0m             paths2050, \u001b[39m# <-- list datapackages here\u001b[39;49;00m\n\u001b[0;32m     <a href='vscode-notebook-cell:/c%3A/Users/dhuber/OneDrive%20-%20Vrije%20Universiteit%20Brussel/Re2Live_paper/03_Data/PLCA_DB_test_v01/PLCA_SLB.ipynb#W1sZmlsZQ%3D%3D?line=17'>18</a>\u001b[0m         ] \n\u001b[0;32m     <a href='vscode-notebook-cell:/c%3A/Users/dhuber/OneDrive%20-%20Vrije%20Universiteit%20Brussel/Re2Live_paper/03_Data/PLCA_DB_test_v01/PLCA_SLB.ipynb#W1sZmlsZQ%3D%3D?line=18'>19</a>\u001b[0m     )\n\u001b[0;32m     <a href='vscode-notebook-cell:/c%3A/Users/dhuber/OneDrive%20-%20Vrije%20Universiteit%20Brussel/Re2Live_paper/03_Data/PLCA_DB_test_v01/PLCA_SLB.ipynb#W1sZmlsZQ%3D%3D?line=19'>20</a>\u001b[0m ndb\u001b[39m.\u001b[39mupdate_external_scenario()\n",
      "File \u001b[1;32mc:\\Users\\dhuber\\Anaconda3\\envs\\slb\\Lib\\site-packages\\premise\\ecoinvent_modification.py:579\u001b[0m, in \u001b[0;36mNewDatabase.__init__\u001b[1;34m(self, scenarios, source_version, source_type, key, source_db, source_file_path, additional_inventories, system_model, system_args, use_cached_inventories, use_cached_database, external_scenarios, quiet, keep_uncertainty_data, gains_scenario, use_absolute_efficiency, use_multiprocessing)\u001b[0m\n\u001b[0;32m    576\u001b[0m     \u001b[39mself\u001b[39m\u001b[39m.\u001b[39madditional_inventories \u001b[39m=\u001b[39m \u001b[39mNone\u001b[39;00m\n\u001b[0;32m    578\u001b[0m \u001b[39mif\u001b[39;00m external_scenarios:\n\u001b[1;32m--> 579\u001b[0m     \u001b[39mself\u001b[39m\u001b[39m.\u001b[39mdatapackages, \u001b[39mself\u001b[39m\u001b[39m.\u001b[39mscenarios \u001b[39m=\u001b[39m check_external_scenarios(\n\u001b[0;32m    580\u001b[0m         external_scenarios, \u001b[39mself\u001b[39;49m\u001b[39m.\u001b[39;49mscenarios\n\u001b[0;32m    581\u001b[0m     )\n\u001b[0;32m    582\u001b[0m \u001b[39melse\u001b[39;00m:\n\u001b[0;32m    583\u001b[0m     \u001b[39mself\u001b[39m\u001b[39m.\u001b[39mdatapackages \u001b[39m=\u001b[39m \u001b[39mNone\u001b[39;00m\n",
      "File \u001b[1;32mc:\\Users\\dhuber\\Anaconda3\\envs\\slb\\Lib\\site-packages\\premise\\external_data_validation.py:613\u001b[0m, in \u001b[0;36mcheck_external_scenarios\u001b[1;34m(datapackage, iam_scenarios)\u001b[0m\n\u001b[0;32m    610\u001b[0m check_config_file(datapackage)\n\u001b[0;32m    612\u001b[0m \u001b[39m# Validate scenario data\u001b[39;00m\n\u001b[1;32m--> 613\u001b[0m datapackage, iam_scenarios \u001b[39m=\u001b[39m check_scenario_data_file(datapackage, iam_scenarios)\n\u001b[0;32m    615\u001b[0m \u001b[39mreturn\u001b[39;00m datapackage, iam_scenarios\n",
      "File \u001b[1;32mc:\\Users\\dhuber\\Anaconda3\\envs\\slb\\Lib\\site-packages\\premise\\external_data_validation.py:404\u001b[0m, in \u001b[0;36mcheck_scenario_data_file\u001b[1;34m(datapackages, iam_scenarios)\u001b[0m\n\u001b[0;32m    400\u001b[0m             iam_scen[\u001b[39m\"\u001b[39m\u001b[39mexternal scenarios\u001b[39m\u001b[39m\"\u001b[39m] \u001b[39m=\u001b[39m [\n\u001b[0;32m    401\u001b[0m                 rev_scenarios[(iam_scen[\u001b[39m\"\u001b[39m\u001b[39mmodel\u001b[39m\u001b[39m\"\u001b[39m], iam_scen[\u001b[39m\"\u001b[39m\u001b[39mpathway\u001b[39m\u001b[39m\"\u001b[39m])][\u001b[39m0\u001b[39m]\n\u001b[0;32m    402\u001b[0m             ]\n\u001b[0;32m    403\u001b[0m     \u001b[39mexcept\u001b[39;00m \u001b[39mKeyError\u001b[39;00m \u001b[39mas\u001b[39;00m err:\n\u001b[1;32m--> 404\u001b[0m         \u001b[39mraise\u001b[39;00m \u001b[39mKeyError\u001b[39;00m(\n\u001b[0;32m    405\u001b[0m             \u001b[39mf\u001b[39m\u001b[39m\"\u001b[39m\u001b[39mExternal scenario no. \u001b[39m\u001b[39m{\u001b[39;00mi\u001b[39m \u001b[39m\u001b[39m+\u001b[39m\u001b[39m \u001b[39m\u001b[39m1\u001b[39m\u001b[39m}\u001b[39;00m\u001b[39m is not compatible with \u001b[39m\u001b[39m{\u001b[39;00miam_scen[\u001b[39m'\u001b[39m\u001b[39mmodel\u001b[39m\u001b[39m'\u001b[39m],\u001b[39m \u001b[39miam_scen[\u001b[39m'\u001b[39m\u001b[39mpathway\u001b[39m\u001b[39m'\u001b[39m]\u001b[39m}\u001b[39;00m\u001b[39m.\u001b[39m\u001b[39m\"\u001b[39m\n\u001b[0;32m    406\u001b[0m         ) \u001b[39mfrom\u001b[39;00m \u001b[39merr\u001b[39;00m\n\u001b[0;32m    408\u001b[0m resource \u001b[39m=\u001b[39m dp\u001b[39m.\u001b[39mget_resource(\u001b[39m\"\u001b[39m\u001b[39mscenario_data\u001b[39m\u001b[39m\"\u001b[39m)\n\u001b[0;32m    409\u001b[0m scenario_data \u001b[39m=\u001b[39m resource\u001b[39m.\u001b[39mread()\n",
      "\u001b[1;31mKeyError\u001b[0m: \"External scenario no. 1 is not compatible with ('remind', 'SSP2-NPi').\""
     ]
    }
   ],
   "source": [
    "#fp = r\"https://raw.githubusercontent.com/premise-community-scenarios/energy-perspective-2050-switzerland/main/datapackage.json\"\n",
    "fp= r\"C:\\Users\\dhuber\\OneDrive - Vrije Universiteit Brussel\\Re2Live_paper\\03_Data\\PLCA_DB_test/datapackage.json\"\n",
    "paths2050 = Package(fp)\n",
    "    \n",
    "bw2data.projects.set_current(\"Dominiks_phd\") #--> to be updated to your project\n",
    "    \n",
    "ndb = NewDatabase(\n",
    "        scenarios = [\n",
    "            {\"model\":\"remind\", \"pathway\":\"SSP2-NPi\", \"year\":2050,},\n",
    "            {\"model\":\"remind\", \"pathway\":\"SSP2-PkBudg1150\", \"year\":2050,},\n",
    "        ],        \n",
    "        #source_db=\"ecoinvent 3.9.1 cutoff\",\n",
    "        source_db=\"cutoff391\", #--> has to be adjusted to match the name of ecoinvent in your current project\n",
    "        source_version=\"3.9.1\",\n",
    "        key='tUePmX_S5B8ieZkkM7WUU2CnO8SmShwmAeWK9x2rTFo=',\n",
    "        external_scenarios=[\n",
    "            paths2050, # <-- list datapackages here\n",
    "        ] \n",
    "    )\n",
    "ndb.update_external_scenario()"
   ]
  },
  {
   "cell_type": "code",
   "execution_count": 3,
   "metadata": {},
   "outputs": [
    {
     "data": {
      "text/plain": [
       "Databases dictionary with 6 object(s):\n",
       "\tBD4OPEM\n",
       "\tBattery_LCI\n",
       "\tbiosphere3\n",
       "\tcutoff391\n",
       "\tecoinvent 3.9.1 consequential\n",
       "\ttest"
      ]
     },
     "execution_count": 3,
     "metadata": {},
     "output_type": "execute_result"
    }
   ],
   "source": [
    "bw2data.projects.set_current(\"Dominiks_phd\")\n",
    "bw2data.databases"
   ]
  }
 ],
 "metadata": {
  "kernelspec": {
   "display_name": "Python 3",
   "language": "python",
   "name": "python3"
  },
  "language_info": {
   "codemirror_mode": {
    "name": "ipython",
    "version": 3
   },
   "file_extension": ".py",
   "mimetype": "text/x-python",
   "name": "python",
   "nbconvert_exporter": "python",
   "pygments_lexer": "ipython3",
   "version": "3.11.6"
  }
 },
 "nbformat": 4,
 "nbformat_minor": 2
}
