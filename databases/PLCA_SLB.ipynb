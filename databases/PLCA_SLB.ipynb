{
 "cells": [
  {
   "cell_type": "code",
   "execution_count": 1,
   "metadata": {},
   "outputs": [],
   "source": [
    "#Requirements:\n",
    "#conda create --name slb python=3.11\n",
    "#conda activate slb\n",
    "#conda install numpy pandas pyyaml schema \n",
    "#pip install premise datapackage\n",
    "#pip install git+https://github.com/brightway-lca/brightway2-io.git\n",
    "#conda list\n",
    "\n",
    "\n",
    "#import brightway2 as bw\n",
    "import bw2data, bw2io\n",
    "from premise import NewDatabase\n",
    "from datapackage import Package"
   ]
  },
  {
   "cell_type": "code",
   "execution_count": 4,
   "metadata": {},
   "outputs": [
    {
     "name": "stdout",
     "output_type": "stream",
     "text": [
      "premise v.(1, 8, 1)\n",
      "+------------------------------------------------------------------+\n",
      "| Warning                                                          |\n",
      "+------------------------------------------------------------------+\n",
      "| Because some of the scenarios can yield LCI databases            |\n",
      "| containing net negative emission technologies (NET),             |\n",
      "| it is advised to account for biogenic CO2 flows when calculating |\n",
      "| Global Warming potential indicators.                             |\n",
      "| `premise_gwp` provides characterization factors for such flows.  |\n",
      "| It also provides factors for hydrogen emissions to air.          |\n",
      "|                                                                  |\n",
      "| Within your bw2 project:                                         |\n",
      "| from premise_gwp import add_premise_gwp                          |\n",
      "| add_premise_gwp()                                                |\n",
      "+------------------------------------------------------------------+\n",
      "+--------------------------------+----------------------------------+\n",
      "| Utils functions                | Description                      |\n",
      "+--------------------------------+----------------------------------+\n",
      "| clear_cache()                  | Clears the cache folder. Useful  |\n",
      "|                                | when updating `premise`or        |\n",
      "|                                | encountering issues with         |\n",
      "|                                | inventories.                     |\n",
      "+--------------------------------+----------------------------------+\n",
      "| get_regions_definition(model)  | Retrieves the list of countries  |\n",
      "|                                | for each region of the model.    |\n",
      "+--------------------------------+----------------------------------+\n",
      "| ndb.NewDatabase(...)           | Generates a summary of the most  |\n",
      "| ndb.generate_scenario_report() | important scenarios' variables.  |\n",
      "+--------------------------------+----------------------------------+\n",
      "Keep uncertainty data?\n",
      "NewDatabase(..., keep_uncertainty_data=True)\n",
      "\n",
      "Disable multiprocessing?\n",
      "NewDatabase(..., use_multiprocessing=False)\n",
      "\n",
      "Hide these messages?\n",
      "NewDatabase(..., quiet=True)\n",
      "('remind', 'SSP2-NPi') can be used with more than one external scenarios: ['RUN 32', 'RUN 32 ELC', 'RUN 32 MOL'].\n",
      "Choose the scenario to associate ('remind', 'SSP2-NPi') with: [(0, 'RUN 32'), (1, 'RUN 32 ELC'), (2, 'RUN 32 MOL')].\n"
     ]
    },
    {
     "name": "stdin",
     "output_type": "stream",
     "text": [
      "Scenario no.:  2\n"
     ]
    },
    {
     "name": "stdout",
     "output_type": "stream",
     "text": [
      "('remind', 'SSP2-PkBudg1150') can be used with more than one external scenarios: ['RUN 32', 'RUN 32 ELC', 'RUN 32 MOL'].\n",
      "Choose the scenario to associate ('remind', 'SSP2-PkBudg1150') with: [(0, 'RUN 32'), (1, 'RUN 32 ELC'), (2, 'RUN 32 MOL')].\n"
     ]
    },
    {
     "name": "stdin",
     "output_type": "stream",
     "text": [
      "Scenario no.:  2\n"
     ]
    },
    {
     "name": "stdout",
     "output_type": "stream",
     "text": [
      "\n",
      "//////////////////// EXTRACTING SOURCE DATABASE ////////////////////\n",
      "Done!\n",
      "\n",
      "////////////////// IMPORTING DEFAULT INVENTORIES ///////////////////\n",
      "Done!\n",
      "\n",
      "/////////////////////// EXTRACTING IAM DATA ////////////////////////\n",
      "Done!\n",
      "\n",
      "//////////////// IMPORTING USER-DEFINED INVENTORIES ////////////////\n",
      "Extracted 1 worksheets in 0.00 seconds\n",
      "Migrating to 3.8 first\n",
      "Applying strategy: migrate_datasets\n",
      "Applying strategy: migrate_exchanges\n"
     ]
    },
    {
     "name": "stderr",
     "output_type": "stream",
     "text": [
      "C:\\Users\\avdoever\\Anaconda3\\envs\\slb\\Lib\\site-packages\\bw2io\\importers\\base_lci.py:427: UserWarning: Skipping migration migration_391_38 because it isn't installed.\n",
      "  warnings.warn(\n",
      "C:\\Users\\avdoever\\Anaconda3\\envs\\slb\\Lib\\site-packages\\bw2io\\importers\\base_lci.py:427: UserWarning: Skipping migration migration_391_39 because it isn't installed.\n",
      "  warnings.warn(\n"
     ]
    },
    {
     "name": "stdout",
     "output_type": "stream",
     "text": [
      "Create custom markets.\n",
      "\n",
      "//////////////// IMPORTING USER-DEFINED INVENTORIES ////////////////\n",
      "Extracted 1 worksheets in 0.00 seconds\n",
      "Migrating to 3.8 first\n",
      "Applying strategy: migrate_datasets\n"
     ]
    },
    {
     "name": "stderr",
     "output_type": "stream",
     "text": [
      "C:\\Users\\avdoever\\Anaconda3\\envs\\slb\\Lib\\site-packages\\bw2io\\importers\\base_lci.py:427: UserWarning: Skipping migration migration_391_38 because it isn't installed.\n",
      "  warnings.warn(\n",
      "C:\\Users\\avdoever\\Anaconda3\\envs\\slb\\Lib\\site-packages\\bw2io\\importers\\base_lci.py:427: UserWarning: Skipping migration migration_391_39 because it isn't installed.\n",
      "  warnings.warn(\n"
     ]
    },
    {
     "name": "stdout",
     "output_type": "stream",
     "text": [
      "Applying strategy: migrate_exchanges\n",
      "Create custom markets.\n",
      "Log file of exchanges saved under C:\\Users\\avdoever\\Anaconda3\\envs\\slb\\Lib\\site-packages\\premise\\data\\logs.\n",
      "Done!\n",
      "\n"
     ]
    }
   ],
   "source": [
    "#fp = r\"https://raw.githubusercontent.com/premise-community-scenarios/energy-perspective-2050-switzerland/main/datapackage.json\"\n",
    "fp= r\"C:\\Users\\avdoever\\OneDrive - Vrije Universiteit Brussel\\Shared folder Anne Daniele\\Publications\\Dominik\\PLCA_DB_test_v01 (1)\\PLCA_DB_test_v01\\datapackage.json\"\n",
    "paths2050 = Package(fp)\n",
    "    \n",
    "bw2data.projects.set_current(\"Dominiks_phd\") #--> to be updated to your project\n",
    "    \n",
    "ndb = NewDatabase(\n",
    "        scenarios = [\n",
    "            {\"model\":\"remind\", \"pathway\":\"SSP2-NPi\", \"year\":2050,},\n",
    "            {\"model\":\"remind\", \"pathway\":\"SSP2-PkBudg1150\", \"year\":2050,},\n",
    "        ],        \n",
    "        #source_db=\"ecoinvent 3.9.1 cutoff\",\n",
    "        source_db=\"cutoff391\", #--> has to be adjusted to match the name of ecoinvent in your current project\n",
    "        source_version=\"3.9.1\",\n",
    "        key='tUePmX_S5B8ieZkkM7WUU2CnO8SmShwmAeWK9x2rTFo=',\n",
    "        external_scenarios=[\n",
    "            paths2050, # <-- list datapackages here\n",
    "        ] \n",
    "    )\n",
    "ndb.update_external_scenario()"
   ]
  },
  {
   "cell_type": "code",
   "execution_count": 5,
   "metadata": {},
   "outputs": [
    {
     "name": "stdout",
     "output_type": "stream",
     "text": [
      "Write new database(s) to Brightway.\n"
     ]
    },
    {
     "name": "stderr",
     "output_type": "stream",
     "text": [
      "Writing activities to SQLite3 database:\n",
      "0% [##############################] 100% | ETA: 00:00:00\n",
      "Total time elapsed: 00:00:59\n"
     ]
    },
    {
     "name": "stdout",
     "output_type": "stream",
     "text": [
      "Title: Writing activities to SQLite3 database:\n",
      "  Started: 11/30/2023 11:37:19\n",
      "  Finished: 11/30/2023 11:38:18\n",
      "  Total time elapsed: 00:00:59\n",
      "  CPU %: 99.00\n",
      "  Memory %: 10.18\n",
      "Created database: ecoinvent_cutoff_3.9_remind_SSP2-NPi_2050_MOL\n"
     ]
    },
    {
     "name": "stderr",
     "output_type": "stream",
     "text": [
      "Writing activities to SQLite3 database:\n",
      "0% [##############################] 100% | ETA: 00:00:00\n",
      "Total time elapsed: 00:01:00\n"
     ]
    },
    {
     "name": "stdout",
     "output_type": "stream",
     "text": [
      "Title: Writing activities to SQLite3 database:\n",
      "  Started: 11/30/2023 11:41:46\n",
      "  Finished: 11/30/2023 11:42:46\n",
      "  Total time elapsed: 00:01:00\n",
      "  CPU %: 98.30\n",
      "  Memory %: 10.20\n",
      "Created database: ecoinvent_cutoff_3.9_remind_SSP2-PkBudg1150_2050_MOL\n",
      "Generate scenario report.\n",
      "Report saved under C:\\Users\\avdoever\\OneDrive - Vrije Universiteit Brussel\\Shared folder Anne Daniele\\Publications\\Dominik\\PLCA_DB_test_v01 (1)\\PLCA_DB_test_v01\\export\\scenario_report.\n",
      "Generate change report.\n",
      "Report saved under C:\\Users\\avdoever\\OneDrive - Vrije Universiteit Brussel\\Shared folder Anne Daniele\\Publications\\Dominik\\PLCA_DB_test_v01 (1)\\PLCA_DB_test_v01.\n"
     ]
    }
   ],
   "source": [
    "ndb.write_db_to_brightway(name=['ecoinvent_cutoff_3.9_remind_SSP2-NPi_2050_MOL','ecoinvent_cutoff_3.9_remind_SSP2-PkBudg1150_2050_MOL'])"
   ]
  },
  {
   "cell_type": "code",
   "execution_count": 7,
   "metadata": {},
   "outputs": [
    {
     "data": {
      "text/plain": [
       "Databases dictionary with 6 object(s):\n",
       "\tbiosphere3\n",
       "\tcutoff391\n",
       "\tecoinvent_cutoff_3.9_remind_SSP2-NPi_2050\n",
       "\tecoinvent_cutoff_3.9_remind_SSP2-NPi_2050_ELC\n",
       "\tecoinvent_cutoff_3.9_remind_SSP2-PkBudg1150_2050\n",
       "\tecoinvent_cutoff_3.9_remind_SSP2-PkBudg1150_2050_ELC"
      ]
     },
     "execution_count": 7,
     "metadata": {},
     "output_type": "execute_result"
    }
   ],
   "source": [
    "bw2data.projects.set_current(\"Dominiks_phd\")\n",
    "bw2data.databases"
   ]
  },
  {
   "cell_type": "code",
   "execution_count": null,
   "metadata": {},
   "outputs": [],
   "source": []
  }
 ],
 "metadata": {
  "kernelspec": {
   "display_name": "Python 3 (ipykernel)",
   "language": "python",
   "name": "python3"
  },
  "language_info": {
   "codemirror_mode": {
    "name": "ipython",
    "version": 3
   },
   "file_extension": ".py",
   "mimetype": "text/x-python",
   "name": "python",
   "nbconvert_exporter": "python",
   "pygments_lexer": "ipython3",
   "version": "3.11.6"
  }
 },
 "nbformat": 4,
 "nbformat_minor": 4
}
